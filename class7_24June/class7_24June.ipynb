{
 "cells": [
  {
   "cell_type": "code",
   "execution_count": 1,
   "id": "bd28330b",
   "metadata": {},
   "outputs": [
    {
     "name": "stdout",
     "output_type": "stream",
     "text": [
      "Current working directory: c:\\Users\\R0ahu\\OneDrive\\Documents\\Programming\\PythonSummer\n"
     ]
    }
   ],
   "source": [
    "import os\n",
    "cwd = os.getcwd()\n",
    "print(f\"Current working directory: {cwd}\")"
   ]
  },
  {
   "cell_type": "code",
   "execution_count": 2,
   "id": "d962ce67",
   "metadata": {},
   "outputs": [
    {
     "name": "stdout",
     "output_type": "stream",
     "text": [
      "Items in the current directory: ['Class1_16June.ipynb', 'Class2_17June.ipynb', 'class3_18June.ipynb', 'class5_20June.ipynb', 'class6_23June.ipynb', 'class7_24June.ipynb']\n"
     ]
    }
   ],
   "source": [
    "items = os.listdir('.')\n",
    "print(f\"Items in the current directory: {items}\")"
   ]
  },
  {
   "cell_type": "code",
   "execution_count": 3,
   "id": "48272523",
   "metadata": {},
   "outputs": [
    {
     "name": "stdout",
     "output_type": "stream",
     "text": [
      "Created new directory: Package\n"
     ]
    }
   ],
   "source": [
    "new_directory = \"Package\"\n",
    "os.mkdir(\"new_directory\")\n",
    "print(f\"Created new directory: {new_directory}\")"
   ]
  },
  {
   "cell_type": "code",
   "execution_count": 4,
   "id": "a2fc7b76",
   "metadata": {},
   "outputs": [
    {
     "name": "stdout",
     "output_type": "stream",
     "text": [
      "Caught a division by zero error\n"
     ]
    }
   ],
   "source": [
    "a = 10\n",
    "b = 0\n",
    "try:\n",
    "    d = a/b\n",
    "    print(f\"Division result: {d}\")\n",
    "\n",
    "    print(\"Inside try block\")\n",
    "except ZeroDivisionError:\n",
    "    print(\"Caught a division by zero error\")\n",
    "\n",
    "else:\n",
    "    print(\"No exceptions occurred, division was successful\")"
   ]
  },
  {
   "cell_type": "code",
   "execution_count": 5,
   "id": "8c09270a",
   "metadata": {},
   "outputs": [
    {
     "name": "stdout",
     "output_type": "stream",
     "text": [
      "Caught a division by zero error\n",
      "This block always executes, regardless of exceptions\n",
      "Cleaning up resources or finalizing operations\n"
     ]
    }
   ],
   "source": [
    "a = 10\n",
    "b = 0\n",
    "try:\n",
    "    d = a/b\n",
    "    print(f\"Division result: {d}\")\n",
    "\n",
    "    print(\"Inside try block\")\n",
    "except ZeroDivisionError:\n",
    "    print(\"Caught a division by zero error\")\n",
    "\n",
    "else:\n",
    "    print(\"No exceptions occurred, division was successful\")\n",
    "\n",
    "finally:\n",
    "    print(\"This block always executes, regardless of exceptions\")\n",
    "    print(\"Cleaning up resources or finalizing operations\")"
   ]
  },
  {
   "cell_type": "code",
   "execution_count": null,
   "id": "b16da29f",
   "metadata": {},
   "outputs": [],
   "source": []
  }
 ],
 "metadata": {
  "kernelspec": {
   "display_name": "Python 3",
   "language": "python",
   "name": "python3"
  },
  "language_info": {
   "codemirror_mode": {
    "name": "ipython",
    "version": 3
   },
   "file_extension": ".py",
   "mimetype": "text/x-python",
   "name": "python",
   "nbconvert_exporter": "python",
   "pygments_lexer": "ipython3",
   "version": "3.13.4"
  }
 },
 "nbformat": 4,
 "nbformat_minor": 5
}
