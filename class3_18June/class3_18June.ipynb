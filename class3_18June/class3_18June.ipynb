{
 "cells": [
  {
   "cell_type": "code",
   "execution_count": 13,
   "id": "59c5f0a1",
   "metadata": {},
   "outputs": [
    {
     "data": {
      "text/plain": [
       "list"
      ]
     },
     "execution_count": 13,
     "metadata": {},
     "output_type": "execute_result"
    }
   ],
   "source": [
    "list = [1,2,3,4.0,\"Python\",True,[43,44,45]]\n",
    "type(list)"
   ]
  },
  {
   "cell_type": "code",
   "execution_count": 7,
   "id": "b3a83ba5",
   "metadata": {},
   "outputs": [
    {
     "name": "stdout",
     "output_type": "stream",
     "text": [
      "5\n",
      "5\n",
      "[5, 2, 3, 4.0, 'Python', True, [43, 44, 45]]\n"
     ]
    }
   ],
   "source": [
    "print(list[0])\n",
    "list[0] = 5\n",
    "print(list[0])\n",
    "print(list)"
   ]
  },
  {
   "cell_type": "code",
   "execution_count": 11,
   "id": "2b953849",
   "metadata": {},
   "outputs": [
    {
     "name": "stdout",
     "output_type": "stream",
     "text": [
      "[5, 2, 30, 30, 3, 4.0, 'Python', True, [43, 44, 45], 'Rahul', 'Rahul']\n"
     ]
    }
   ],
   "source": [
    "list.append(\"Rahul\")\n",
    "print(list)"
   ]
  },
  {
   "cell_type": "code",
   "execution_count": 14,
   "id": "f1d7b3a2",
   "metadata": {},
   "outputs": [
    {
     "data": {
      "text/plain": [
       "[1, 2, 30, 3, 4.0, 'Python', True, [43, 44, 45]]"
      ]
     },
     "execution_count": 14,
     "metadata": {},
     "output_type": "execute_result"
    }
   ],
   "source": [
    "list.insert(2,30)\n",
    "list"
   ]
  },
  {
   "cell_type": "code",
   "execution_count": 15,
   "id": "5ecaba06",
   "metadata": {},
   "outputs": [
    {
     "data": {
      "text/plain": [
       "[1, 2, 3, 4.0, 'Python', True, [43, 44, 45]]"
      ]
     },
     "execution_count": 15,
     "metadata": {},
     "output_type": "execute_result"
    }
   ],
   "source": [
    "list.remove(30)\n",
    "list"
   ]
  },
  {
   "cell_type": "code",
   "execution_count": 16,
   "id": "920cfe21",
   "metadata": {},
   "outputs": [
    {
     "name": "stdout",
     "output_type": "stream",
     "text": [
      "[1, 2, 3, 'Python', True, [43, 44, 45]]\n"
     ]
    }
   ],
   "source": [
    "list.pop(3)\n",
    "print(list)"
   ]
  },
  {
   "cell_type": "code",
   "execution_count": 19,
   "id": "93f04556",
   "metadata": {},
   "outputs": [
    {
     "name": "stdout",
     "output_type": "stream",
     "text": [
      "[1, 2, 3, 'Python', True, [43, 44, 45]]\n",
      "[1, 2, 3, 'Python', True, [43, 44, 45]]\n"
     ]
    }
   ],
   "source": [
    "list2 = list.copy()\n",
    "print(list)\n",
    "print(list2)"
   ]
  },
  {
   "cell_type": "code",
   "execution_count": 23,
   "id": "0248331d",
   "metadata": {},
   "outputs": [
    {
     "name": "stdout",
     "output_type": "stream",
     "text": [
      "1\n",
      "2\n",
      "3\n",
      "4\n",
      "5\n",
      "6\n",
      "7\n",
      "8\n",
      "9\n",
      "10\n"
     ]
    }
   ],
   "source": [
    "new_list = [1,2,3,4,5,6,7,8,9,10]\n",
    "for i in new_list:\n",
    "    print(i)"
   ]
  },
  {
   "cell_type": "code",
   "execution_count": 27,
   "id": "ec1d4b5d",
   "metadata": {},
   "outputs": [
    {
     "name": "stdout",
     "output_type": "stream",
     "text": [
      "[1, 4, 9, 16, 25, 36, 49, 64, 81, 100]\n"
     ]
    }
   ],
   "source": [
    "num_list = []\n",
    "for i in new_list:\n",
    "    num_list.append(i**2)\n",
    "print(num_list)"
   ]
  },
  {
   "cell_type": "code",
   "execution_count": null,
   "id": "8442eb0a",
   "metadata": {},
   "outputs": [
    {
     "name": "stdout",
     "output_type": "stream",
     "text": [
      "[4, 16, 36, 64, 100]\n"
     ]
    }
   ],
   "source": [
    "num_list = []\n",
    "for i in new_list:\n",
    "    if i%2 == 0:\n",
    "        num_list.append(i**2)\n",
    "print(num_list)\n",
    "\n",
    "# num_list = [i**2 for i in new_list if i%2 == 0] (one Line code)"
   ]
  },
  {
   "cell_type": "code",
   "execution_count": 30,
   "id": "a98a8b90",
   "metadata": {},
   "outputs": [
    {
     "name": "stdout",
     "output_type": "stream",
     "text": [
      "[5, 12, 23, 30, 31, 36, 47, 56, 87, 98, 99]\n"
     ]
    }
   ],
   "source": [
    "list = [31,30,56,87,47,12,36,98,5,99,23]\n",
    "for i in range(len(list)-1):\n",
    "    for j in range(i+1,len(list)):\n",
    "        if list[i]>list[j]:\n",
    "            list[i],list[j] = list[j],list[i]\n",
    "\n",
    "print(list)"
   ]
  },
  {
   "cell_type": "code",
   "execution_count": 33,
   "id": "39a28732",
   "metadata": {},
   "outputs": [
    {
     "data": {
      "text/plain": [
       "11"
      ]
     },
     "execution_count": 33,
     "metadata": {},
     "output_type": "execute_result"
    }
   ],
   "source": [
    "len(list)"
   ]
  },
  {
   "cell_type": "code",
   "execution_count": 44,
   "id": "51548eae",
   "metadata": {},
   "outputs": [
    {
     "data": {
      "text/plain": [
       "[[1, 2, 3, 4, 5],\n",
       " [6, 7, 8, 9, 10],\n",
       " [3, 4, 5, 7, 5],\n",
       " [7, 5, 4, 3, 6],\n",
       " [4, 6, 8, 4, 5],\n",
       " [6, 78, 64, 6, 7]]"
      ]
     },
     "execution_count": 44,
     "metadata": {},
     "output_type": "execute_result"
    }
   ],
   "source": [
    "matrix = [[1,2,3,4,5],[6,7,8,9,10],\n",
    "          [3,4,5,7,5],[7,5,4,3,6],\n",
    "          [4,6,8,4,5],[6,78,64,6,7]]\n",
    "matrix"
   ]
  },
  {
   "cell_type": "code",
   "execution_count": 46,
   "id": "9a8e0045",
   "metadata": {},
   "outputs": [
    {
     "data": {
      "text/plain": [
       "[1, 2, 3, 4, 5]"
      ]
     },
     "execution_count": 46,
     "metadata": {},
     "output_type": "execute_result"
    }
   ],
   "source": [
    "matrix[0][0:9]"
   ]
  },
  {
   "cell_type": "code",
   "execution_count": 47,
   "id": "b61122e5",
   "metadata": {},
   "outputs": [
    {
     "data": {
      "text/plain": [
       "4"
      ]
     },
     "execution_count": 47,
     "metadata": {},
     "output_type": "execute_result"
    }
   ],
   "source": [
    "matrix[3][2]"
   ]
  },
  {
   "cell_type": "code",
   "execution_count": 49,
   "id": "d26eaa5f",
   "metadata": {},
   "outputs": [
    {
     "data": {
      "text/plain": [
       "[[[1, 2, 3, 4, 5], [6, 7, 8, 9, 10]],\n",
       " [[3, 4, 5, 7, 5], [7, 5, 4, 3, 6]],\n",
       " [[4, 6, 8, 4, 5], [6, 78, 64, 6, 7]]]"
      ]
     },
     "execution_count": 49,
     "metadata": {},
     "output_type": "execute_result"
    }
   ],
   "source": [
    "matrix1 = [[[1,2,3,4,5],[6,7,8,9,10]],\n",
    "          [[3,4,5,7,5],[7,5,4,3,6]],\n",
    "          [[4,6,8,4,5],[6,78,64,6,7]]]\n",
    "matrix1"
   ]
  },
  {
   "cell_type": "code",
   "execution_count": 53,
   "id": "55f0b26a",
   "metadata": {},
   "outputs": [
    {
     "data": {
      "text/plain": [
       "7"
      ]
     },
     "execution_count": 53,
     "metadata": {},
     "output_type": "execute_result"
    }
   ],
   "source": [
    "matrix1[1][0][3]"
   ]
  },
  {
   "cell_type": "code",
   "execution_count": 57,
   "id": "6360080d",
   "metadata": {},
   "outputs": [
    {
     "name": "stdout",
     "output_type": "stream",
     "text": [
      "(3, 4, 5, 6, 7, 6, 'Python')\n"
     ]
    },
    {
     "data": {
      "text/plain": [
       "tuple"
      ]
     },
     "execution_count": 57,
     "metadata": {},
     "output_type": "execute_result"
    }
   ],
   "source": [
    "tuple = (3,4,5,6,7,6,\"Python\")\n",
    "print(tuple)\n",
    "type(tuple)"
   ]
  },
  {
   "cell_type": "code",
   "execution_count": 59,
   "id": "1668b6b7",
   "metadata": {},
   "outputs": [
    {
     "data": {
      "text/plain": [
       "2"
      ]
     },
     "execution_count": 59,
     "metadata": {},
     "output_type": "execute_result"
    }
   ],
   "source": [
    "tuple.count(6)"
   ]
  },
  {
   "cell_type": "code",
   "execution_count": 62,
   "id": "6286c399",
   "metadata": {},
   "outputs": [
    {
     "name": "stdout",
     "output_type": "stream",
     "text": [
      "{21, 54, 23, 24, 89, 25}\n"
     ]
    }
   ],
   "source": [
    "set = {21,23,21,25,24,24,89,54}\n",
    "print(set)"
   ]
  },
  {
   "cell_type": "code",
   "execution_count": 63,
   "id": "0960d3ed",
   "metadata": {},
   "outputs": [
    {
     "name": "stdout",
     "output_type": "stream",
     "text": [
      "21\n",
      "54\n",
      "23\n",
      "24\n",
      "89\n",
      "25\n"
     ]
    }
   ],
   "source": [
    "for i in set:\n",
    "    print(i)"
   ]
  },
  {
   "cell_type": "code",
   "execution_count": 65,
   "id": "f97e3f75",
   "metadata": {},
   "outputs": [
    {
     "name": "stdout",
     "output_type": "stream",
     "text": [
      "{1, 2, 3, 4, 5, 6, 7, 8, 9, 10}\n",
      "{5}\n",
      "{1, 2, 3, 4}\n",
      "{1, 2, 3, 4, 6, 7, 8, 9, 10}\n"
     ]
    }
   ],
   "source": [
    "s1 = {1,2,3,4,5}\n",
    "s2 = {6,7,8,9,10,5}\n",
    "\n",
    "print(s1.union(s2))\n",
    "print(s1.intersection(s2))\n",
    "print(s1.difference(s2))\n",
    "print(s1^s2)"
   ]
  },
  {
   "cell_type": "code",
   "execution_count": 66,
   "id": "f89471c9",
   "metadata": {},
   "outputs": [],
   "source": [
    "s1.add(5)"
   ]
  },
  {
   "cell_type": "code",
   "execution_count": 67,
   "id": "16759909",
   "metadata": {},
   "outputs": [],
   "source": [
    "s1.remove(2)"
   ]
  },
  {
   "cell_type": "code",
   "execution_count": 71,
   "id": "2e2610e6",
   "metadata": {},
   "outputs": [
    {
     "name": "stdout",
     "output_type": "stream",
     "text": [
      "{21, 23, 24, 89, 25}\n"
     ]
    }
   ],
   "source": [
    "set.discard(54)\n",
    "print(set)"
   ]
  },
  {
   "cell_type": "code",
   "execution_count": null,
   "id": "e386bc17",
   "metadata": {},
   "outputs": [],
   "source": [
    "dict = {\"name\" : \"xyz\" , \"age\" : 20}\n"
   ]
  },
  {
   "cell_type": "code",
   "execution_count": 73,
   "id": "dec34c34",
   "metadata": {},
   "outputs": [
    {
     "data": {
      "text/plain": [
       "'xyz'"
      ]
     },
     "execution_count": 73,
     "metadata": {},
     "output_type": "execute_result"
    }
   ],
   "source": [
    "dict[\"name\"]"
   ]
  },
  {
   "cell_type": "code",
   "execution_count": 74,
   "id": "ca80aa6c",
   "metadata": {},
   "outputs": [
    {
     "data": {
      "text/plain": [
       "{'name': 'xyz', 'age': 20}"
      ]
     },
     "execution_count": 74,
     "metadata": {},
     "output_type": "execute_result"
    }
   ],
   "source": [
    "dict"
   ]
  },
  {
   "cell_type": "code",
   "execution_count": 76,
   "id": "7d14c43d",
   "metadata": {},
   "outputs": [
    {
     "name": "stdout",
     "output_type": "stream",
     "text": [
      "{'name': 'xyz', 'age': 20, 'salary': 20000}\n"
     ]
    }
   ],
   "source": [
    "dict[\"salary\"] = 20000\n",
    "print(dict)"
   ]
  },
  {
   "cell_type": "code",
   "execution_count": 77,
   "id": "c1e7a169",
   "metadata": {},
   "outputs": [
    {
     "name": "stdout",
     "output_type": "stream",
     "text": [
      "{'name': 'xyz', 'age': 20, 'salary': 20000, 'Name': 'Rahul'}\n"
     ]
    }
   ],
   "source": [
    "dict[\"Name\"] = \"Rahul\"\n",
    "print(dict)"
   ]
  },
  {
   "cell_type": "code",
   "execution_count": 82,
   "id": "b28fbfed",
   "metadata": {},
   "outputs": [
    {
     "data": {
      "text/plain": [
       "20"
      ]
     },
     "execution_count": 82,
     "metadata": {},
     "output_type": "execute_result"
    }
   ],
   "source": [
    "dict.pop('age')"
   ]
  },
  {
   "cell_type": "code",
   "execution_count": 83,
   "id": "735198e8",
   "metadata": {},
   "outputs": [
    {
     "name": "stdout",
     "output_type": "stream",
     "text": [
      "{'salary': 20000, 'Name': 'Rahul'}\n"
     ]
    }
   ],
   "source": [
    "print(dict)"
   ]
  },
  {
   "cell_type": "code",
   "execution_count": 87,
   "id": "e324f16b",
   "metadata": {},
   "outputs": [
    {
     "data": {
      "text/plain": [
       "20000"
      ]
     },
     "execution_count": 87,
     "metadata": {},
     "output_type": "execute_result"
    }
   ],
   "source": [
    "dict.get(\"salary\")"
   ]
  },
  {
   "cell_type": "code",
   "execution_count": 100,
   "id": "da8645d4",
   "metadata": {},
   "outputs": [
    {
     "name": "stdout",
     "output_type": "stream",
     "text": [
      "['a', 'j', 'f', 'j', 'd', 'f', 's', 'd', 'i', 'j', 'd', 'i', 'f']\n"
     ]
    }
   ],
   "source": [
    "string = \"ajfjdfsdijdifj\"\n",
    "list = []\n",
    "for i in range(0,len(string)-1):\n",
    "    list.append(string[i])\n",
    "print(list)"
   ]
  },
  {
   "cell_type": "code",
   "execution_count": 105,
   "id": "9ac49f9f",
   "metadata": {},
   "outputs": [
    {
     "name": "stdout",
     "output_type": "stream",
     "text": [
      "['abc', 'bcd', 'cde', 'def', 'efg', 'fgh', 'ghi', 'hij', 'ijk', 'jkl', 'klm', 'lmn', 'mno', 'nop', 'opq', 'pqr', 'qrs', 'rst', 'stu', 'tuv', 'uvw', 'vwx', 'wxy', 'xyz']\n"
     ]
    }
   ],
   "source": [
    "string = \"abcdefghijklmnopqrstuvwxyz\"\n",
    "list = []\n",
    "for i in range(len(string)-2):\n",
    "    list.append(string[i:i+3])\n",
    "print(list)"
   ]
  },
  {
   "cell_type": "code",
   "execution_count": null,
   "id": "773b3852",
   "metadata": {},
   "outputs": [],
   "source": [
    "# program to find LCM.\n",
    "# Program to find HCF.\n",
    "# Cube sum of first n Natural Numbers."
   ]
  },
  {
   "cell_type": "code",
   "execution_count": 6,
   "id": "481ddb12",
   "metadata": {},
   "outputs": [
    {
     "name": "stdout",
     "output_type": "stream",
     "text": [
      "LCM of 15 and 22 is 330\n"
     ]
    }
   ],
   "source": [
    "a = int(input(\"Enter first No.\"))\n",
    "b = int(input(\"Enter Second No.\"))\n",
    "greater = 0\n",
    "if a > b:\n",
    "    greater = a\n",
    "else:\n",
    "    greater = b\n",
    "\n",
    "while True:\n",
    "    if greater % a == 0 and greater % b == 0:\n",
    "        lcm = greater\n",
    "        break\n",
    "    greater += 1\n",
    "\n",
    "print(f\"LCM of {a} and {b} is {lcm}\")"
   ]
  },
  {
   "cell_type": "code",
   "execution_count": 8,
   "id": "725d3cbc",
   "metadata": {},
   "outputs": [
    {
     "name": "stdout",
     "output_type": "stream",
     "text": [
      "HCF of 10 and 7 is 1\n"
     ]
    }
   ],
   "source": [
    "a = int(input(\"Enter first number: \"))\n",
    "b = int(input(\"Enter second number: \"))\n",
    "smaller = 0\n",
    "if a < b:\n",
    "    smaller = a\n",
    "else:\n",
    "    smaller = b\n",
    "\n",
    "hcf = 1\n",
    "for i in range(1, smaller + 1):\n",
    "    if a % i == 0 and b % i == 0:\n",
    "        hcf = i\n",
    "\n",
    "print(f\"HCF of {a} and {b} is {hcf}\")"
   ]
  },
  {
   "cell_type": "code",
   "execution_count": null,
   "id": "6969951c",
   "metadata": {},
   "outputs": [
    {
     "name": "stdout",
     "output_type": "stream",
     "text": [
      "Sum of first 4 Numbers cube 100\n"
     ]
    }
   ],
   "source": [
    "n = int(input(\"Enter a Number\"))\n",
    "sum = 0\n",
    "for i in range (1,n+1):\n",
    "    sum = i**3 + sum\n",
    "\n",
    "print(f\"Sum of first {n} Numbers cube {sum}.\")"
   ]
  }
 ],
 "metadata": {
  "kernelspec": {
   "display_name": "Python 3",
   "language": "python",
   "name": "python3"
  },
  "language_info": {
   "codemirror_mode": {
    "name": "ipython",
    "version": 3
   },
   "file_extension": ".py",
   "mimetype": "text/x-python",
   "name": "python",
   "nbconvert_exporter": "python",
   "pygments_lexer": "ipython3",
   "version": "3.13.4"
  }
 },
 "nbformat": 4,
 "nbformat_minor": 5
}
