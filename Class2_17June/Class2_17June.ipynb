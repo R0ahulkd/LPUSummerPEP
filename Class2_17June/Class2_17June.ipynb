{
 "cells": [
  {
   "cell_type": "code",
   "execution_count": null,
   "id": "fdec4e65",
   "metadata": {},
   "outputs": [
    {
     "data": {
      "text/plain": [
       "'P'"
      ]
     },
     "execution_count": 8,
     "metadata": {},
     "output_type": "execute_result"
    }
   ],
   "source": [
    "a = \"Python\"\n",
    "a[0] # print first letter of a."
   ]
  },
  {
   "cell_type": "code",
   "execution_count": 12,
   "id": "62d3caae",
   "metadata": {},
   "outputs": [
    {
     "data": {
      "text/plain": [
       "6"
      ]
     },
     "execution_count": 12,
     "metadata": {},
     "output_type": "execute_result"
    }
   ],
   "source": [
    "len(a) # To find length of a."
   ]
  },
  {
   "cell_type": "code",
   "execution_count": null,
   "id": "0ffa4925",
   "metadata": {},
   "outputs": [
    {
     "data": {
      "text/plain": [
       "'Pyt'"
      ]
     },
     "execution_count": 13,
     "metadata": {},
     "output_type": "execute_result"
    }
   ],
   "source": [
    "a[0:3] # print first 3 characters 0 to 3. (0,1,2)"
   ]
  },
  {
   "cell_type": "code",
   "execution_count": 19,
   "id": "f04679dd",
   "metadata": {},
   "outputs": [
    {
     "name": "stdout",
     "output_type": "stream",
     "text": [
      "Welc\n",
      "me to\n",
      "Welcome to the second day of the python class\n",
      " ot\n",
      "s\n",
      "on cl\n",
      " emoc\n",
      "ssalc nohtyp eht fo yad dnoces eht ot emocleW\n"
     ]
    }
   ],
   "source": [
    "str = \"Welcome to the second day of the python class\"\n",
    "print(str[0:4]) # print first 4 characters.\n",
    "print(str[5:10]) # print letter 5 to 10.\n",
    "print(str[:]) # print full String\n",
    "print(str[7:13:2]) # print from starting character 7 and with a gap to 2 upto 13.\n",
    "print(str[-1]) # print last character.\n",
    "print(str[-8:-3]) # In backward direction it start from -1 (not from zero)\n",
    "print(str[7:2:-1]) # In backward direction by gap of 2.\n",
    "print(str[::-1]) # print whole string as reverse string."
   ]
  },
  {
   "cell_type": "code",
   "execution_count": null,
   "id": "954d14fa",
   "metadata": {},
   "outputs": [
    {
     "name": "stdout",
     "output_type": "stream",
     "text": [
      "String is Palindrome\n"
     ]
    }
   ],
   "source": [
    "str = input(\"Enter a String :\")\n",
    "str = str.lower() # Convert characters to lower case.\n",
    "if str[:] == str[::-1]:\n",
    "    print(\"String is Palindrome\")\n",
    "else:\n",
    "    print(\"Please try again.\")\n"
   ]
  },
  {
   "cell_type": "code",
   "execution_count": 33,
   "id": "b966b079",
   "metadata": {},
   "outputs": [
    {
     "name": "stdout",
     "output_type": "stream",
     "text": [
      "I AM A PYTHON PROGRAMMER\n",
      "i am a python programmer\n",
      "I Am A Python Programmer\n",
      "I am a python programmer\n",
      "i am a python programmer\n",
      "I Am A pYTHON PROgRAMMER\n"
     ]
    }
   ],
   "source": [
    "str = \"i aM a Python proGrammer\"\n",
    "print(str.upper()) # Convert characters to Upper case.\n",
    "print(str.lower())\n",
    "print(str.title()) # Captialize first character of every word.\n",
    "print(str.capitalize()) # Captialize first character of Sentence.\n",
    "print(str.casefold()) # if most words are capital then full capital otherwise small case\n",
    "print(str.swapcase()) # Change lowert to upper and upper to lower."
   ]
  },
  {
   "cell_type": "code",
   "execution_count": null,
   "id": "03acbdb6",
   "metadata": {},
   "outputs": [
    {
     "name": "stdout",
     "output_type": "stream",
     "text": [
      "Vikas\n",
      "Sachin\n",
      "Virat\n",
      "Rohit\n",
      "['Vikas', 'Gopalakrishnan']\n"
     ]
    }
   ],
   "source": [
    "str = \"V#ika#s\"\n",
    "str1 = \" Sachin \"\n",
    "str2 = \" Virat\"\n",
    "str3 = \"Rohit \"\n",
    "str4 = \"Vikas Gopalakrishnan\"\n",
    "\n",
    "print(str.replace('#','')) # Remove # from string.\n",
    "print(str1.strip()) # Remove blank spaces from string.\n",
    "print(str2.lstrip()) # Remove blank space from left.\n",
    "print(str3.rstrip()) # Remove blank space from right.\n",
    "print(str4.split(' ')) # Split string into seperate words."
   ]
  },
  {
   "cell_type": "code",
   "execution_count": 37,
   "id": "1a9680c8",
   "metadata": {},
   "outputs": [
    {
     "name": "stdout",
     "output_type": "stream",
     "text": [
      "Lorem Ipsum is simply dummy text of the, printing and typesetting industry. Lorem Ipsum has been the industry's standard dummy text ever since the 1500s, when an unknown printer took a galley of type and scrambled it to make a type specimen book. It has survived not only five centuries, but also the leap into electronic typesetting, remaining essentially unchanged. It was popularised in the 1960s with the release of Letraset sheets containing Lorem Ipsum passages, and more recently with desktop publishing software like Aldus PageMaker including versions of Lorem Ipsum.\n"
     ]
    }
   ],
   "source": [
    "str = \"Lorem Ipsum is simply dummy text of the, printing and typesetting industry. Lorem Ipsum has been the industry's standard dummy text ever since the 1500s, when an unknown printer took a galley of type and scrambled it to make a type specimen book. It has survived not only five centuries, but also the leap into electronic typesetting, remaining essentially unchanged. It was popularised in the 1960s with the release of Letraset sheets containing Lorem Ipsum passages, and more recently with desktop publishing software like Aldus PageMaker including versions of Lorem Ipsum.\"\n",
    "print(str) # (\\n) used to go to new line."
   ]
  },
  {
   "cell_type": "code",
   "execution_count": null,
   "id": "2405eaa8",
   "metadata": {},
   "outputs": [
    {
     "name": "stdout",
     "output_type": "stream",
     "text": [
      "Lorem Ipsum is simply dummy text of the printing and typesetting industry. Lorem Ipsum has been the industry's standard dummy text ever since the 1500s when an unknown printer took a galley of type and scrambled it to make a type specimen book. It has survived not only five centuries but also the leap into electronic typesetting remaining essentially unchanged. It was popularised in the 1960s with the release of Letraset sheets containing Lorem Ipsum passages and more recently with desktop publishing software like Aldus PageMaker including versions of Lorem Ipsum.\n",
      "lorem ipsum is simply dummy text of the, printing and typesetting industry. lorem ipsum has been the industry's standard dummy text ever since the 1500s, when an unknown printer took a galley of type and scrambled it to make a type specimen book. it has survived not only five centuries, but also the leap into electronic typesetting, remaining essentially unchanged. it was popularised in the 1960s with the release of letraset sheets containing lorem ipsum passages, and more recently with desktop publishing software like aldus pagemaker including versions of lorem ipsum.\n"
     ]
    }
   ],
   "source": [
    "print(str.replace(',', '')) # Replace , and remove it.\n",
    "print(str.lower())"
   ]
  },
  {
   "cell_type": "code",
   "execution_count": 43,
   "id": "28abe31e",
   "metadata": {},
   "outputs": [
    {
     "name": "stdout",
     "output_type": "stream",
     "text": [
      "This LPU's Classroom\n",
      "Like it said, \"to errr is human, to forgive is divine\"\n",
      "Like it said, \"to errr is human, to forgive is divine\"\n",
      "Like it said, 'to errr is human, to forgive is divine'\n"
     ]
    }
   ],
   "source": [
    "print(\"This LPU's Classroom\")\n",
    "print('Like it said, \"to errr is human, to forgive is divine\"')\n",
    "print('''Like it said, \"to errr is human, to forgive is divine\"''')\n",
    "print(\"\"\"Like it said, 'to errr is human, to forgive is divine'\"\"\")"
   ]
  },
  {
   "cell_type": "code",
   "execution_count": null,
   "id": "a9b27372",
   "metadata": {},
   "outputs": [
    {
     "name": "stdout",
     "output_type": "stream",
     "text": [
      "The sales value for the month of June is Rs.10000\n",
      "The sales value for the month of June is Rs.10000\n"
     ]
    }
   ],
   "source": [
    "sales = 10000\n",
    "month = \"June\"\n",
    "print(\"The sales value for the month of {} is Rs.{}\".format(month, sales))\n",
    "print(f\"The sales value for the month of {month} is Rs.{sales}\") # Use f string for print variables with string."
   ]
  },
  {
   "cell_type": "code",
   "execution_count": 48,
   "id": "cb0af466",
   "metadata": {},
   "outputs": [
    {
     "data": {
      "text/plain": [
       "'G:/LPU'"
      ]
     },
     "execution_count": 48,
     "metadata": {},
     "output_type": "execute_result"
    }
   ],
   "source": [
    "# Use of f string.\n",
    "dir = \"G\"\n",
    "subdir = \"LPU\"\n",
    "f'{dir}:/{subdir}'"
   ]
  },
  {
   "cell_type": "code",
   "execution_count": 49,
   "id": "2369a8d2",
   "metadata": {},
   "outputs": [
    {
     "name": "stdout",
     "output_type": "stream",
     "text": [
      "0\n",
      "1\n",
      "2\n",
      "3\n",
      "4\n",
      "5\n",
      "6\n",
      "7\n",
      "8\n",
      "9\n"
     ]
    }
   ],
   "source": [
    "# While Loop\n",
    "x = 0\n",
    "while(x < 10):\n",
    "    print(x)\n",
    "    x = x + 1 "
   ]
  },
  {
   "cell_type": "code",
   "execution_count": null,
   "id": "b84b27db",
   "metadata": {},
   "outputs": [
    {
     "name": "stdout",
     "output_type": "stream",
     "text": [
      "0\n",
      "1\n",
      "2\n",
      "3\n",
      "4\n"
     ]
    }
   ],
   "source": [
    "x = 0\n",
    "while(x < 10):\n",
    "    print(x)\n",
    "    x = x + 1\n",
    "    if (x == 5): # break the execution when x == 5.\n",
    "        break"
   ]
  },
  {
   "cell_type": "code",
   "execution_count": 1,
   "id": "229d3436",
   "metadata": {},
   "outputs": [
    {
     "name": "stdout",
     "output_type": "stream",
     "text": [
      "0\n",
      "1\n",
      "2\n",
      "3\n",
      "4\n",
      "5\n",
      "6\n",
      "7\n",
      "8\n",
      "9\n",
      "10\n",
      "11\n",
      "12\n",
      "13\n",
      "14\n",
      "15\n",
      "16\n",
      "17\n",
      "18\n",
      "19\n",
      "20\n",
      "21\n",
      "22\n",
      "23\n",
      "24\n",
      "25\n",
      "26\n",
      "27\n",
      "28\n",
      "29\n"
     ]
    }
   ],
   "source": [
    "x = 0\n",
    "while(x < 100):\n",
    "    print(x)\n",
    "    x = x + 1\n",
    "    if (x == 15):\n",
    "        continue\n",
    "    if (x==30):\n",
    "        break"
   ]
  },
  {
   "cell_type": "code",
   "execution_count": 6,
   "id": "f0c546ac",
   "metadata": {},
   "outputs": [
    {
     "name": "stdout",
     "output_type": "stream",
     "text": [
      "Something Else\n"
     ]
    }
   ],
   "source": [
    "x = 30\n",
    "if (x < 20):\n",
    "    print(\"Something\")\n",
    "else:\n",
    "    print(\"Something Else\")"
   ]
  },
  {
   "cell_type": "code",
   "execution_count": null,
   "id": "3a9c51f3",
   "metadata": {},
   "outputs": [
    {
     "name": "stdout",
     "output_type": "stream",
     "text": [
      "Fail\n"
     ]
    }
   ],
   "source": [
    "marks = int(input(\"marks\"))\n",
    "\n",
    "if((marks <= 100) and (marks >= 80)):\n",
    "    print(\"Grade A\")\n",
    "elif((marks < 80) and (marks >= 60)):\n",
    "    print(\"Grade B\")\n",
    "elif((marks < 60) and (marks >= 40)):\n",
    "    print(\"Grade C\")\n",
    "else:\n",
    "    print(\"Fail\")"
   ]
  },
  {
   "cell_type": "code",
   "execution_count": 14,
   "id": "b49c67a2",
   "metadata": {},
   "outputs": [
    {
     "name": "stdout",
     "output_type": "stream",
     "text": [
      "Number is Positive\n"
     ]
    }
   ],
   "source": [
    "num = int(input(\"Enter a Number:\"))\n",
    "if ( num < 0 ):\n",
    "    print(\"Number is Negative\")\n",
    "elif ( num == 0 ):\n",
    "    print(\"Number is zero\")\n",
    "else:\n",
    "    print(\"Number is Positive\")"
   ]
  },
  {
   "cell_type": "code",
   "execution_count": null,
   "id": "7cda8daf",
   "metadata": {},
   "outputs": [
    {
     "name": "stdout",
     "output_type": "stream",
     "text": [
      "1900 is not a leap year.\n"
     ]
    }
   ],
   "source": [
    "year = int(input(\"Enter a Year:\"))\n",
    "if ((year % 400) == 0) and ((year % 100) != 0) or ((year % 400) == 0):\n",
    "    print(f\"{year} is a Leap Year\")\n",
    "else:\n",
    "    print(f\"{year} is not a leap year.\")"
   ]
  },
  {
   "cell_type": "code",
   "execution_count": 26,
   "id": "0ab0328f",
   "metadata": {},
   "outputs": [
    {
     "name": "stdout",
     "output_type": "stream",
     "text": [
      "15 is not a Prime Number\n"
     ]
    }
   ],
   "source": [
    "n = int(input(\"Enter a Number: \"))\n",
    "if n <= 1:\n",
    "    print(f'{n} is not a Prime Number')\n",
    "else:\n",
    "    for i in range(2, n):\n",
    "        if n % i == 0:\n",
    "            print(f'{n} is not a Prime Number')\n",
    "            break\n",
    "    else:\n",
    "        print(f'{n} is a Prime Number')"
   ]
  },
  {
   "cell_type": "code",
   "execution_count": null,
   "id": "c4ee3fdc",
   "metadata": {},
   "outputs": [
    {
     "name": "stdout",
     "output_type": "stream",
     "text": [
      "2 is the divisor of 10000\n",
      "4 is the divisor of 10000\n",
      "5 is the divisor of 10000\n",
      "8 is the divisor of 10000\n",
      "10 is the divisor of 10000\n",
      "16 is the divisor of 10000\n",
      "20 is the divisor of 10000\n",
      "25 is the divisor of 10000\n",
      "40 is the divisor of 10000\n",
      "50 is the divisor of 10000\n",
      "80 is the divisor of 10000\n",
      "100 is the divisor of 10000\n",
      "125 is the divisor of 10000\n",
      "200 is the divisor of 10000\n",
      "250 is the divisor of 10000\n",
      "400 is the divisor of 10000\n",
      "500 is the divisor of 10000\n",
      "625 is the divisor of 10000\n",
      "1000 is the divisor of 10000\n",
      "1250 is the divisor of 10000\n",
      "2000 is the divisor of 10000\n",
      "2500 is the divisor of 10000\n",
      "5000 is the divisor of 10000\n"
     ]
    }
   ],
   "source": [
    "n = int(input(\"Enter a Number: \"))\n",
    "divisors = 0\n",
    "for i in range (2,n):\n",
    "    if n % i == 0:\n",
    "        divisors = divisors + 1\n",
    "        print(f'{i} is the divisor of {n}')\n",
    "if (divisors == 0):\n",
    "    print(f'There is no Proper Divisor of {n}.')"
   ]
  },
  {
   "cell_type": "code",
   "execution_count": 4,
   "id": "62c48b15",
   "metadata": {},
   "outputs": [
    {
     "name": "stdout",
     "output_type": "stream",
     "text": [
      "Better Luck next Time\n"
     ]
    }
   ],
   "source": [
    "# Armstrong Number\n",
    "num = input(\"Enter a Number: \")\n",
    "power = len(num)\n",
    "total = 0\n",
    "\n",
    "for digit in num:\n",
    "    total += int(digit) ** power\n",
    "\n",
    "if total == int(num):\n",
    "    print(f\"{num} is an Armstrong Number\")\n",
    "else:\n",
    "    print(\"Better Luck next Time\")"
   ]
  },
  {
   "cell_type": "code",
   "execution_count": null,
   "id": "66d1d7f8",
   "metadata": {},
   "outputs": [],
   "source": []
  }
 ],
 "metadata": {
  "kernelspec": {
   "display_name": "Python 3",
   "language": "python",
   "name": "python3"
  },
  "language_info": {
   "codemirror_mode": {
    "name": "ipython",
    "version": 3
   },
   "file_extension": ".py",
   "mimetype": "text/x-python",
   "name": "python",
   "nbconvert_exporter": "python",
   "pygments_lexer": "ipython3",
   "version": "3.13.4"
  }
 },
 "nbformat": 4,
 "nbformat_minor": 5
}
