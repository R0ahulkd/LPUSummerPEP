{
 "cells": [
  {
   "cell_type": "code",
   "execution_count": 2,
   "id": "3fa3d935",
   "metadata": {},
   "outputs": [
    {
     "data": {
      "text/plain": [
       "50"
      ]
     },
     "execution_count": 2,
     "metadata": {},
     "output_type": "execute_result"
    }
   ],
   "source": [
    "class maths():\n",
    "    def __init__(self):\n",
    "        self.num1 = 20\n",
    "        self.num2 = 30\n",
    "\n",
    "    def add(self):\n",
    "        return self.num1 + self.num2\n",
    "    \n",
    "x = maths()\n",
    "x.add()"
   ]
  },
  {
   "cell_type": "code",
   "execution_count": null,
   "id": "29820952",
   "metadata": {},
   "outputs": [
    {
     "name": "stdout",
     "output_type": "stream",
     "text": [
      "Model: Realme X and Price: 20000\n",
      "Samsung\n"
     ]
    }
   ],
   "source": [
    "class Mobile:\n",
    "    def __init__(self,m):\n",
    "        self.model = m\n",
    "    def show_model(self,p):\n",
    "        price = p\n",
    "        print(\"Model:\", self.model, \"and Price:\",price)\n",
    "\n",
    "realme = Mobile(\"Realme X\")\n",
    "realme.show_model(20000)\n",
    "realme.model = \"Samsung\"\n",
    "print(realme.model)"
   ]
  },
  {
   "cell_type": "code",
   "execution_count": 8,
   "id": "7cd773f8",
   "metadata": {},
   "outputs": [
    {
     "name": "stdout",
     "output_type": "stream",
     "text": [
      "Grandson class constructor\n",
      "Father class method called\n",
      "Son class method called\n",
      "Grandson class method called\n"
     ]
    }
   ],
   "source": [
    "class Father:\n",
    "    def __init__(self):\n",
    "        print(\"Father class constructor called \")\n",
    "    def showF(self):\n",
    "        print(\"Father class method called\")\n",
    "\n",
    "class Son(Father):\n",
    "    def __init__(self):\n",
    "        print(\"Son class constructor\")\n",
    "    def shows(self):\n",
    "        print(\"Son class method called\")\n",
    "    \n",
    "class Grandson(Son):\n",
    "    def __init__(self):\n",
    "        print(\"Grandson class constructor\")\n",
    "    def showg(self):\n",
    "        print(\"Grandson class method called\")\n",
    "\n",
    "g = Grandson()\n",
    "g.showF()\n",
    "g.shows()\n",
    "g.showg()"
   ]
  },
  {
   "cell_type": "code",
   "execution_count": null,
   "id": "ad4ad260",
   "metadata": {},
   "outputs": [],
   "source": []
  }
 ],
 "metadata": {
  "kernelspec": {
   "display_name": "Python 3",
   "language": "python",
   "name": "python3"
  },
  "language_info": {
   "codemirror_mode": {
    "name": "ipython",
    "version": 3
   },
   "file_extension": ".py",
   "mimetype": "text/x-python",
   "name": "python",
   "nbconvert_exporter": "python",
   "pygments_lexer": "ipython3",
   "version": "3.13.4"
  }
 },
 "nbformat": 4,
 "nbformat_minor": 5
}
