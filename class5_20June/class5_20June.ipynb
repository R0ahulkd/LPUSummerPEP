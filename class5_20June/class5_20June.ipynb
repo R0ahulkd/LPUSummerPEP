{
 "cells": [
  {
   "cell_type": "code",
   "execution_count": 6,
   "id": "d2493b57",
   "metadata": {},
   "outputs": [
    {
     "name": "stdout",
     "output_type": "stream",
     "text": [
      "9\n"
     ]
    }
   ],
   "source": [
    "def myfunction(x = 2,y = 3):\n",
    "    sum = x + y\n",
    "    return sum\n",
    "\n",
    "print(myfunction(5,4)) # function takes 5,4 as input"
   ]
  },
  {
   "cell_type": "code",
   "execution_count": 5,
   "id": "8cd2c25d",
   "metadata": {},
   "outputs": [
    {
     "name": "stdout",
     "output_type": "stream",
     "text": [
      "5\n"
     ]
    }
   ],
   "source": [
    "def myfunction(x = 2,y = 3):\n",
    "    sum = x + y\n",
    "    return sum\n",
    "\n",
    "print(myfunction()) # Now function takes 2,3 as input"
   ]
  },
  {
   "cell_type": "code",
   "execution_count": 1,
   "id": "fe8c501a",
   "metadata": {},
   "outputs": [
    {
     "name": "stdout",
     "output_type": "stream",
     "text": [
      "<class 'function'>\n",
      "Disp FunctionShow Function\n"
     ]
    }
   ],
   "source": [
    "def disp(sh):\n",
    "    print(type(sh))\n",
    "    print(\"Disp Function\" + sh())\n",
    "\n",
    "def show():\n",
    "    return \"Show Function\"\n",
    "    \n",
    "disp(show)"
   ]
  },
  {
   "cell_type": "code",
   "execution_count": 2,
   "id": "62646690",
   "metadata": {},
   "outputs": [
    {
     "name": "stdout",
     "output_type": "stream",
     "text": [
      "Disp Function\n",
      "Show Function\n"
     ]
    }
   ],
   "source": [
    "def disp():\n",
    "    def show():\n",
    "        return \"Show Function\"\n",
    "    print(\"Disp Function\")\n",
    "    return show()\n",
    "\n",
    "r_sh = disp()\n",
    "print(r_sh)  # This will print the return value of show function called inside disp"
   ]
  },
  {
   "cell_type": "code",
   "execution_count": 4,
   "id": "be309c6e",
   "metadata": {},
   "outputs": [
    {
     "name": "stdout",
     "output_type": "stream",
     "text": [
      "8\n"
     ]
    }
   ],
   "source": [
    "def func(*num):\n",
    "    sum = num[0] + num[2] + num[3]\n",
    "    return sum\n",
    "\n",
    "print(func(1, 2, 3, 4, 5))  # This will print the sum of 1, 3, and 4"
   ]
  },
  {
   "cell_type": "code",
   "execution_count": null,
   "id": "1baf821d",
   "metadata": {},
   "outputs": [
    {
     "name": "stdout",
     "output_type": "stream",
     "text": [
      "12\n"
     ]
    }
   ],
   "source": [
    "def func(**num):\n",
    "    sum = num['a'] + num['b'] + num['c']\n",
    "    return sum\n",
    "\n",
    "print(func(a = 6, b = 2, c = 4)) # This will print the sum of 6, 2, and 4"
   ]
  },
  {
   "cell_type": "code",
   "execution_count": null,
   "id": "8d208389",
   "metadata": {},
   "outputs": [
    {
     "name": "stdout",
     "output_type": "stream",
     "text": [
      "10\n"
     ]
    }
   ],
   "source": [
    "def func2(*num1, **num2):\n",
    "    sum = num1[0] + num1[1] + num2['a'] + num2['b']\n",
    "    return sum\n",
    "\n",
    "print(func2(1, 2, a = 3, b = 4))  # This will print the sum of 1, 2, 3, and 4"
   ]
  },
  {
   "cell_type": "code",
   "execution_count": 7,
   "id": "7baa524e",
   "metadata": {},
   "outputs": [
    {
     "name": "stdout",
     "output_type": "stream",
     "text": [
      "11\n"
     ]
    }
   ],
   "source": [
    "def plus(x,y):\n",
    "    return x + y\n",
    "\n",
    "def func(a,b):\n",
    "    add = plus(a,b)\n",
    "    return add\n",
    "\n",
    "print(func(5, 6))  # This will print the sum of 5 and 6"
   ]
  },
  {
   "cell_type": "code",
   "execution_count": 9,
   "id": "e3196e16",
   "metadata": {},
   "outputs": [
    {
     "name": "stdout",
     "output_type": "stream",
     "text": [
      "3.0\n"
     ]
    }
   ],
   "source": [
    "def plus(x, y):\n",
    "    return x + y\n",
    "\n",
    "def minus(c,d):\n",
    "    return c - d\n",
    "\n",
    "def func(a, b):\n",
    "    frm1 = plus(a , b)/minus(a, b)\n",
    "    return frm1\n",
    "\n",
    "print(func(10, 5))  # This will print the result of (10 + 5) / (10 - 5), which is 3.0"
   ]
  },
  {
   "cell_type": "code",
   "execution_count": null,
   "id": "1bce1015",
   "metadata": {},
   "outputs": [],
   "source": [
    "# Local Variable Example\n",
    "def func(x):\n",
    "    sum = x + x\n",
    "    return sum\n",
    "print(x) # This will raise an error because x is not defined outside the function"
   ]
  },
  {
   "cell_type": "code",
   "execution_count": 11,
   "id": "5c675e14",
   "metadata": {},
   "outputs": [
    {
     "name": "stdout",
     "output_type": "stream",
     "text": [
      "3628800\n"
     ]
    }
   ],
   "source": [
    "def fact(n):\n",
    "    if n == 0:\n",
    "        return 1\n",
    "    return n * fact(n-1)\n",
    "\n",
    "print(fact(10)) # This will print the factorial of 10, which is 3628800"
   ]
  },
  {
   "cell_type": "code",
   "execution_count": null,
   "id": "8665713d",
   "metadata": {},
   "outputs": [
    {
     "name": "stdout",
     "output_type": "stream",
     "text": [
      "5\n",
      "11\n",
      "(14, 17, 2)\n"
     ]
    }
   ],
   "source": [
    "# Anonymous function or lambda function Example 1 single argument\n",
    "show = lambda x : print(x)\n",
    "show(5)\n",
    "\n",
    "# Example 2 Two Arguments\n",
    "add = lambda x,y : (x+y)\n",
    "print(add(5, 6))  # This will print the sum of 5 and 6, which is 11\n",
    "\n",
    "# Example 3 return multiple expressions (as a tuple)\n",
    "process_number = lambda num: (num * 2, num + 10, num - 5)\n",
    "\n",
    "result_tuple = process_number(7)\n",
    "print(result_tuple)"
   ]
  },
  {
   "cell_type": "code",
   "execution_count": 13,
   "id": "893202d7",
   "metadata": {},
   "outputs": [
    {
     "name": "stdout",
     "output_type": "stream",
     "text": [
      "Fibonacci sequence:\n",
      "0\n",
      "1\n",
      "1\n",
      "2\n",
      "3\n",
      "5\n",
      "8\n",
      "13\n",
      "21\n",
      "34\n"
     ]
    }
   ],
   "source": [
    "def fibo(n):\n",
    "    if n <= 1:\n",
    "        return n\n",
    "    \n",
    "    else:\n",
    "        return fibo(n-1) + fibo(n-2)\n",
    "    \n",
    "nterms = int(input(\"Enter the number of terms: \"))\n",
    "\n",
    "print(\"Fibonacci sequence:\")\n",
    "for i in range(nterms):\n",
    "    print(fibo(i))"
   ]
  },
  {
   "cell_type": "code",
   "execution_count": 1,
   "id": "fa739426",
   "metadata": {},
   "outputs": [
    {
     "name": "stdout",
     "output_type": "stream",
     "text": [
      "153 is an Armstrong number\n"
     ]
    }
   ],
   "source": [
    "def armstrong(a):\n",
    "    stra = str(a)\n",
    "    power = len(stra)\n",
    "    sum = 0\n",
    "    for i in range(len(stra)):\n",
    "        sum += int(stra[i]) ** power\n",
    "\n",
    "    if sum == a:\n",
    "        return f'{a} is an Armstrong number'\n",
    "    else:\n",
    "        return f'{a} is not an Armstrong number'\n",
    "    \n",
    "print(armstrong(153))  # This will check if 153 is an Armstrong number"
   ]
  }
 ],
 "metadata": {
  "kernelspec": {
   "display_name": "Python 3",
   "language": "python",
   "name": "python3"
  },
  "language_info": {
   "codemirror_mode": {
    "name": "ipython",
    "version": 3
   },
   "file_extension": ".py",
   "mimetype": "text/x-python",
   "name": "python",
   "nbconvert_exporter": "python",
   "pygments_lexer": "ipython3",
   "version": "3.13.4"
  }
 },
 "nbformat": 4,
 "nbformat_minor": 5
}
