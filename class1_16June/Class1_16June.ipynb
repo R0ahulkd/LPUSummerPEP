{
 "cells": [
  {
   "cell_type": "code",
   "execution_count": 1,
   "id": "dbb06f90",
   "metadata": {},
   "outputs": [
    {
     "name": "stdout",
     "output_type": "stream",
     "text": [
      "Hello World\n"
     ]
    }
   ],
   "source": [
    "print(\"Hello World\")"
   ]
  },
  {
   "cell_type": "code",
   "execution_count": 2,
   "id": "7ad08592",
   "metadata": {},
   "outputs": [
    {
     "name": "stdout",
     "output_type": "stream",
     "text": [
      "<class 'int'>\n",
      "<class 'float'>\n"
     ]
    }
   ],
   "source": [
    "a = 2\n",
    "b = 4.0\n",
    "print(type(a))\n",
    "print(type(b))"
   ]
  },
  {
   "cell_type": "code",
   "execution_count": 6,
   "id": "8796acd6",
   "metadata": {},
   "outputs": [
    {
     "name": "stdout",
     "output_type": "stream",
     "text": [
      "Python programming\n",
      "Pythonprogramming\n",
      "Python programming\n"
     ]
    }
   ],
   "source": [
    "x = \"Python\"\n",
    "y = \"programming\"\n",
    "print (x , y)\n",
    "print (x + y)\n",
    "print ( x + \" \" + y)"
   ]
  },
  {
   "cell_type": "code",
   "execution_count": null,
   "id": "60105fab",
   "metadata": {},
   "outputs": [],
   "source": [
    "# Addition == +\n",
    "# Substraction == -\n",
    "# Multiplication == *\n",
    "# Division == /\n",
    "# Modulo == %\n",
    "# division2 == //\n",
    "# Power == **"
   ]
  },
  {
   "cell_type": "code",
   "execution_count": null,
   "id": "caafd7fd",
   "metadata": {},
   "outputs": [
    {
     "name": "stdout",
     "output_type": "stream",
     "text": [
      "15\n",
      "5\n",
      "50\n",
      "2.0\n",
      "0\n",
      "2\n",
      "100000\n"
     ]
    }
   ],
   "source": [
    "a = 10\n",
    "b = 5\n",
    "print(a + b)\n",
    "print(a - b)\n",
    "print(a * b)\n",
    "print(a / b)\n",
    "print(a % b)\n",
    "print(a // b) # Give Quotient of Divide\n",
    "print(a ** b) # a to power b"
   ]
  },
  {
   "cell_type": "code",
   "execution_count": null,
   "id": "891b6b83",
   "metadata": {},
   "outputs": [
    {
     "name": "stdout",
     "output_type": "stream",
     "text": [
      "8\n"
     ]
    }
   ],
   "source": [
    "# Case Sensitive x and X are different\n",
    "x = 3\n",
    "X = 5\n",
    "print(x + X)"
   ]
  },
  {
   "cell_type": "code",
   "execution_count": null,
   "id": "66b0e9e6",
   "metadata": {},
   "outputs": [
    {
     "name": "stdout",
     "output_type": "stream",
     "text": [
      "False\n",
      "True\n",
      "False\n",
      "True\n",
      "False\n",
      "True\n"
     ]
    }
   ],
   "source": [
    "# Comparision Operators\n",
    "\n",
    "print(a == b)\n",
    "print(a > b)\n",
    "print(a < b)\n",
    "print(a >= b)\n",
    "print(a <= b)\n",
    "print(a != b)"
   ]
  },
  {
   "cell_type": "code",
   "execution_count": 2,
   "id": "426a2937",
   "metadata": {},
   "outputs": [
    {
     "name": "stdout",
     "output_type": "stream",
     "text": [
      "True\n",
      "True\n",
      "True\n",
      "False\n"
     ]
    }
   ],
   "source": [
    "#Logical Operators\n",
    "a = 10\n",
    "b = 5\n",
    "c = 4\n",
    "\n",
    "print((a >= b) and (a >= c))\n",
    "print((a >= b) or (a >= c))\n",
    "print(not(a == b))\n",
    "print(a == b)"
   ]
  },
  {
   "cell_type": "code",
   "execution_count": 3,
   "id": "127dfc69",
   "metadata": {},
   "outputs": [
    {
     "name": "stdout",
     "output_type": "stream",
     "text": [
      "100.0\n"
     ]
    }
   ],
   "source": [
    "# Write a Python Program to find the area of a triangle.\n",
    "base = int(input(\"Enter the base of the Triangle : \"))\n",
    "height = int(input(\"Enter the Height of the Triangle : \"))\n",
    "area = (0.5 * base * height)\n",
    "print(area)"
   ]
  },
  {
   "cell_type": "code",
   "execution_count": 1,
   "id": "c2b1122a",
   "metadata": {},
   "outputs": [
    {
     "data": {
      "text/plain": [
       "int"
      ]
     },
     "execution_count": 1,
     "metadata": {},
     "output_type": "execute_result"
    }
   ],
   "source": [
    "z = \"5\"\n",
    "z = int(z)\n",
    "type(z)"
   ]
  },
  {
   "cell_type": "code",
   "execution_count": null,
   "id": "ae34b087",
   "metadata": {},
   "outputs": [
    {
     "name": "stdout",
     "output_type": "stream",
     "text": [
      "num1 = 5 \n",
      "num2 = 10\n"
     ]
    }
   ],
   "source": [
    "# Write a Python program to Swap two Variables.\n",
    "\n",
    "a = int(input(\"num1\"))\n",
    "b = int(input(\"num2\"))\n",
    "# c = a\n",
    "# a = b\n",
    "# print(\"Num 1 =\" , a)\n",
    "# print(\"Num 2 =\" , c)\n",
    "\n",
    "# Shortcut\n",
    "a,b = b,a # This swap values a == b and b == a\n",
    "print(\"num1 =\",a,\"\\nnum2 =\",b)"
   ]
  },
  {
   "cell_type": "code",
   "execution_count": null,
   "id": "a4d12ab5",
   "metadata": {},
   "outputs": [
    {
     "name": "stdout",
     "output_type": "stream",
     "text": [
      "Feet = 1.000000032\n"
     ]
    }
   ],
   "source": [
    "# Write a python code to convert centimeter to feet.\n",
    "a = float(input(\"Enter the Centimeteres: \"))\n",
    "feet = a * 0.0328084\n",
    "print(\"Feet =\",feet)"
   ]
  },
  {
   "cell_type": "code",
   "execution_count": 26,
   "id": "9747ea09",
   "metadata": {},
   "outputs": [
    {
     "name": "stdout",
     "output_type": "stream",
     "text": [
      "0\n",
      "1\n",
      "1\n",
      "2\n",
      "3\n",
      "5\n",
      "8\n",
      "13\n",
      "21\n",
      "34\n",
      "55\n",
      "89\n",
      "144\n",
      "233\n",
      "377\n",
      "610\n",
      "987\n",
      "1597\n",
      "2584\n",
      "4181\n"
     ]
    }
   ],
   "source": [
    "# Write a program to find first 20 Fiboanacci Numbers.\n",
    "a = 0\n",
    "b = 1\n",
    "c = 3\n",
    "print(a)\n",
    "print(b)\n",
    "while (c <= 20):\n",
    "    sum = a + b\n",
    "    print(sum)\n",
    "    a = b\n",
    "    b = sum\n",
    "    c = c + 1"
   ]
  },
  {
   "cell_type": "code",
   "execution_count": 13,
   "id": "b427be5b",
   "metadata": {},
   "outputs": [
    {
     "name": "stdout",
     "output_type": "stream",
     "text": [
      "The Factorial of 6 is 720\n"
     ]
    }
   ],
   "source": [
    "# Write a Python Program to find the factorial of a Number.\n",
    "num = int(input(\"Enter a Number : \"))\n",
    "fact = 1\n",
    "if num < 0:\n",
    "    print(\"Factorial does not exist for negative numbers\")\n",
    "elif num == 0:\n",
    "    print(\"Factorial of 0 is 1\")\n",
    "else:\n",
    "    for i in range(1,num+1):\n",
    "        fact = fact * i\n",
    "    print(f\"The Factorial of {num} is {fact}\")\n"
   ]
  },
  {
   "cell_type": "code",
   "execution_count": null,
   "id": "e73c7ff1",
   "metadata": {},
   "outputs": [
    {
     "name": "stdout",
     "output_type": "stream",
     "text": [
      "8 * 1 = 8\n",
      "8 * 2 = 16\n",
      "8 * 3 = 24\n",
      "8 * 4 = 32\n",
      "8 * 5 = 40\n",
      "8 * 6 = 48\n",
      "8 * 7 = 56\n",
      "8 * 8 = 64\n",
      "8 * 9 = 72\n",
      "8 * 10 = 80\n"
     ]
    }
   ],
   "source": [
    "# Wirite a Pythong Program to Display the Multiplication Table.\n",
    "num = int(input(\"Enter a Number : \"))\n",
    "table = 1\n",
    "for i in range (1,11):\n",
    "    print(f\"{num} * {i} = {num*i}\")"
   ]
  }
 ],
 "metadata": {
  "kernelspec": {
   "display_name": "Python 3",
   "language": "python",
   "name": "python3"
  },
  "language_info": {
   "codemirror_mode": {
    "name": "ipython",
    "version": 3
   },
   "file_extension": ".py",
   "mimetype": "text/x-python",
   "name": "python",
   "nbconvert_exporter": "python",
   "pygments_lexer": "ipython3",
   "version": "3.13.4"
  }
 },
 "nbformat": 4,
 "nbformat_minor": 5
}
